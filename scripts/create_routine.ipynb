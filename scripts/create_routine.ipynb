{
 "cells": [
  {
   "cell_type": "code",
   "execution_count": null,
   "metadata": {
    "collapsed": true
   },
   "outputs": [],
   "source": []
  },
  {
   "cell_type": "code",
   "execution_count": null,
   "outputs": [],
   "source": [
    "# Global Context\n",
    "\n",
    "url_site = 'https://cotz.com.br/'\n"
   ],
   "metadata": {
    "collapsed": false
   }
  },
  {
   "cell_type": "code",
   "execution_count": null,
   "outputs": [],
   "source": [
    "# Login Context\n",
    "input_username = '//*[@id=\"login\"]'\n",
    "input_password = '//*[@id=\"pass\"]'\n",
    "\n",
    "# Register Hour Context\n",
    "## year have 04 digits\n",
    "## month have 02 digits\n",
    "url_to_register_hours = 'https://cotz.com.br/obj.php?obj=acao_evento&op=calendario&mes={month}&ano={year}'\n",
    "btn_add_actions = '//*[@id=\"add_acao_evento\"]'\n",
    "sleep_time = 10  # Will need 10 seconds to loading the page.\n",
    "\n",
    "# Form to register action\n",
    "linked_user = '//*[@id=\"p_v\"]'\n",
    "linked_project = '//*[@id=\"i_pro\"]'\n",
    "linked_event = '//*[@id=\"i_e\"]'\n",
    "linked_date = '//*[@id=\"d_a_e\"]'\n",
    "responsable = '//*[@id=\"i_u_r\"]'\n",
    "activity_description = '//*[@id=\"richText_dsc_c\"]/div'\n",
    "hours_company = '//*[@id=\"t_h\"]'\n",
    "hours_on_client = '//*[@id=\"t_h_p\"]'\n",
    "hours_on_homeoffice = '//*[@id=\"t_h_o\"]'\n",
    "check_send_mail = '//*[@id=\"e_resp_com\"]'\n",
    "btn_register_task = '//*[@id=\"btnCreate\"]'\n",
    "\n"
   ],
   "metadata": {
    "collapsed": false
   }
  },
  {
   "cell_type": "code",
   "execution_count": null,
   "outputs": [],
   "source": [],
   "metadata": {
    "collapsed": false
   }
  }
 ],
 "metadata": {
  "kernelspec": {
   "display_name": "Python 3",
   "language": "python",
   "name": "python3"
  },
  "language_info": {
   "codemirror_mode": {
    "name": "ipython",
    "version": 2
   },
   "file_extension": ".py",
   "mimetype": "text/x-python",
   "name": "python",
   "nbconvert_exporter": "python",
   "pygments_lexer": "ipython2",
   "version": "2.7.6"
  }
 },
 "nbformat": 4,
 "nbformat_minor": 0
}
