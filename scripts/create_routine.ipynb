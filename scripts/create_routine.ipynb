{
 "cells": [
  {
   "cell_type": "code",
   "execution_count": null,
   "metadata": {
    "collapsed": true
   },
   "outputs": [],
   "source": []
  },
  {
   "cell_type": "code",
   "execution_count": 13,
   "outputs": [],
   "source": [
    "# Global Context\n",
    "\n",
    "url_site = 'https://cotz.com.br/'\n"
   ],
   "metadata": {
    "collapsed": false,
    "ExecuteTime": {
     "end_time": "2023-07-01T17:00:15.783753200Z",
     "start_time": "2023-07-01T17:00:15.773755100Z"
    }
   }
  },
  {
   "cell_type": "code",
   "execution_count": 80,
   "outputs": [],
   "source": [
    "# Login Context\n",
    "input_username = '//*[@id=\"login\"]'\n",
    "input_password = '//*[@id=\"pass\"]'\n",
    "btn_login = '//button[@class=\"btt_contained btt_plus\"]'\n",
    "# Register Hour Context\n",
    "## year have 04 digits\n",
    "## month have 02 digits\n",
    "url_to_register_hours = 'https://cotz.com.br/obj.php?obj=acao_evento&op=calendario&mes={month}&ano={year}'\n",
    "btn_add_actions = '//*[@id=\"add_acao_evento\"]'\n",
    "\n",
    "# Form to register action\n",
    "linked_user = '//*[@id=\"p_v\"]'\n",
    "linked_user_options = '//select[@id=\"p_v\"]/option'\n",
    "linked_project = '//*[@id=\"i_pro\"]'\n",
    "linked_project_options = '//*[@id=\"i_pro\"]/option'\n",
    "linked_event = '//*[@id=\"i_e\"]'\n",
    "linked_date = '//*[@id=\"d_a_e\"]'\n",
    "responsable = '//*[@id=\"i_u_r\"]'\n",
    "activity_description = '//*[@id=\"richText_dsc_c\"]/div'\n",
    "hours_company = '//*[@id=\"t_h\"]'\n",
    "hours_on_client = '//*[@id=\"t_h_p\"]'\n",
    "hours_on_homeoffice = '//*[@id=\"t_h_o\"]'\n",
    "check_send_mail = '//*[@id=\"e_resp_com\"]'\n",
    "btn_register_task = '//*[@id=\"btnCreate\"]'\n",
    "\n",
    "div_conteudo = '//div[@id=\"conteudo\"]'\n"
   ],
   "metadata": {
    "collapsed": false,
    "ExecuteTime": {
     "end_time": "2023-07-01T18:26:03.777605700Z",
     "start_time": "2023-07-01T18:26:03.768600300Z"
    }
   }
  },
  {
   "cell_type": "code",
   "execution_count": 28,
   "outputs": [],
   "source": [
    "# Exec Variables\n",
    "\n",
    "value_username = 'thiago.sabara@4mti.com.br'\n",
    "value_password = 'NOVAnuptg09'\n"
   ],
   "metadata": {
    "collapsed": false,
    "ExecuteTime": {
     "end_time": "2023-07-01T17:07:57.396322600Z",
     "start_time": "2023-07-01T17:07:57.389326900Z"
    }
   }
  },
  {
   "cell_type": "code",
   "execution_count": 115,
   "outputs": [],
   "source": [
    "from selenium import webdriver\n",
    "from selenium.webdriver.common.keys import Keys\n",
    "from selenium.webdriver.common.alert import Alert\n",
    "from selenium.webdriver.common.by import By\n",
    "from selenium.webdriver.support import expected_conditions as ec\n",
    "from selenium.webdriver.support.ui import WebDriverWait\n",
    "from selenium.webdriver import ActionChains\n",
    "import selenium.common.exceptions as SeleniumErrors\n",
    "from datetime import datetime\n"
   ],
   "metadata": {
    "collapsed": false,
    "ExecuteTime": {
     "end_time": "2023-07-01T18:51:54.864618600Z",
     "start_time": "2023-07-01T18:51:54.851101500Z"
    }
   }
  },
  {
   "cell_type": "code",
   "execution_count": 4,
   "outputs": [],
   "source": [
    "# VARIABLES\n"
   ],
   "metadata": {
    "collapsed": false,
    "ExecuteTime": {
     "end_time": "2023-07-01T16:52:45.309641Z",
     "start_time": "2023-07-01T16:52:45.296095400Z"
    }
   }
  },
  {
   "cell_type": "code",
   "execution_count": 119,
   "outputs": [],
   "source": [
    "browser = webdriver.Chrome()"
   ],
   "metadata": {
    "collapsed": false,
    "ExecuteTime": {
     "end_time": "2023-07-01T19:06:45.738513Z",
     "start_time": "2023-07-01T19:06:44.653041200Z"
    }
   }
  },
  {
   "cell_type": "code",
   "execution_count": 120,
   "outputs": [],
   "source": [
    "# Acessar o site\n",
    "browser.maximize_window()\n",
    "wait = WebDriverWait(browser, 15)\n",
    "browser.get(url_site)"
   ],
   "metadata": {
    "collapsed": false,
    "ExecuteTime": {
     "end_time": "2023-07-01T19:06:53.832686Z",
     "start_time": "2023-07-01T19:06:49.158109300Z"
    }
   }
  },
  {
   "cell_type": "code",
   "execution_count": 121,
   "outputs": [
    {
     "data": {
      "text/plain": "<selenium.webdriver.remote.webelement.WebElement (session=\"8f5848b79c03e3ffc993ae9948193f56\", element=\"30B559F9B1BE92B8215FC99CE0EFBA5C_element_42\")>"
     },
     "execution_count": 121,
     "metadata": {},
     "output_type": "execute_result"
    }
   ],
   "source": [
    "# Fazer o login\n",
    "browser.find_element(By.XPATH, input_username).send_keys(value_username)\n",
    "browser.find_element(By.XPATH, input_password).send_keys(value_password)\n",
    "browser.implicitly_wait(.5)\n",
    "browser.find_element(By.XPATH, btn_login).click()\n",
    "wait.until(ec.visibility_of_element_located((By.XPATH, div_conteudo)))"
   ],
   "metadata": {
    "collapsed": false,
    "ExecuteTime": {
     "end_time": "2023-07-01T19:06:59.343995600Z",
     "start_time": "2023-07-01T19:06:53.834685100Z"
    }
   }
  },
  {
   "cell_type": "code",
   "execution_count": 122,
   "outputs": [],
   "source": [
    "# Acessar a página de registro\n",
    "browser.get(url_to_register_hours.format(month='06', year='2023'))\n",
    "btn_add = wait.until(ec.visibility_of_element_located((By.XPATH, btn_add_actions)))\n"
   ],
   "metadata": {
    "collapsed": false,
    "ExecuteTime": {
     "end_time": "2023-07-01T19:07:02.374415100Z",
     "start_time": "2023-07-01T19:06:59.346995100Z"
    }
   }
  },
  {
   "cell_type": "code",
   "execution_count": 123,
   "outputs": [],
   "source": [
    "# Abrir o formulário de registro\n",
    "btn_add.click()\n",
    "select_linked_user = wait.until(ec.visibility_of_element_located((By.XPATH, linked_user)))\n"
   ],
   "metadata": {
    "collapsed": false,
    "ExecuteTime": {
     "end_time": "2023-07-01T19:07:05.532291700Z",
     "start_time": "2023-07-01T19:07:02.377927Z"
    }
   }
  },
  {
   "cell_type": "code",
   "execution_count": 124,
   "outputs": [],
   "source": [
    "# realizar o registro\n",
    "\n",
    "value_select = 'Enforce Group'\n",
    "\n",
    "## Selecionar pessoa vinculada\n",
    "select_linked_user.click()\n",
    "browser.implicitly_wait(.5)\n",
    "for i in browser.find_elements(By.XPATH, linked_user_options):\n",
    "    if i.text == value_select:\n",
    "        i.click()\n",
    "        break\n",
    "# select_linked_user.click()"
   ],
   "metadata": {
    "collapsed": false,
    "ExecuteTime": {
     "end_time": "2023-07-01T19:07:06.464922Z",
     "start_time": "2023-07-01T19:07:05.533291700Z"
    }
   }
  },
  {
   "cell_type": "code",
   "execution_count": 125,
   "outputs": [],
   "source": [
    "## Selecionar o projeto\n",
    "value_select = 'Dataself'\n",
    "browser.find_element(By.XPATH, linked_project).click()\n",
    "for i in browser.find_elements(By.XPATH, linked_project_options):\n",
    "    if i.text == value_select:\n",
    "        i.click()\n",
    "        break\n",
    "# browser.find_element(By.XPATH, linked_project).click()"
   ],
   "metadata": {
    "collapsed": false,
    "ExecuteTime": {
     "end_time": "2023-07-01T19:07:07.291441Z",
     "start_time": "2023-07-01T19:07:06.466922500Z"
    }
   }
  },
  {
   "cell_type": "code",
   "execution_count": 126,
   "outputs": [],
   "source": [
    "## Selecionar o evento\n",
    "value_select = 'Desenvolvimento'\n",
    "\n",
    "\n",
    "for i in browser.find_elements(By.XPATH, linked_event+\"/option\"):\n",
    "    if i.text == value_select:\n",
    "        i.click()\n",
    "        break"
   ],
   "metadata": {
    "collapsed": false,
    "ExecuteTime": {
     "end_time": "2023-07-01T19:07:07.369117200Z",
     "start_time": "2023-07-01T19:07:07.293280600Z"
    }
   }
  },
  {
   "cell_type": "code",
   "execution_count": 127,
   "outputs": [],
   "source": [
    "## Selecionar a data\n",
    "value_date = datetime.now().strftime('%d/%m/%Y')\n",
    "\n",
    "browser.find_element(\n",
    "    By.XPATH,\n",
    "    linked_date\n",
    ").clear()\n",
    "\n",
    "browser.find_element(\n",
    "    By.XPATH,\n",
    "    linked_date\n",
    ").send_keys(value_date)\n"
   ],
   "metadata": {
    "collapsed": false,
    "ExecuteTime": {
     "end_time": "2023-07-01T19:07:07.479182800Z",
     "start_time": "2023-07-01T19:07:07.371131600Z"
    }
   }
  },
  {
   "cell_type": "code",
   "execution_count": 128,
   "outputs": [],
   "source": [
    "## Aplicar a descrição da atividade\n",
    "value_text = \"Ajustes no ambiente de homolog2, para conexão com AD do cliente.\"\n",
    "browser.find_element(\n",
    "    By.XPATH,\n",
    "    activity_description\n",
    ").clear()\n",
    "\n",
    "browser.find_element(\n",
    "    By.XPATH,\n",
    "    activity_description\n",
    ").send_keys(value_text)\n"
   ],
   "metadata": {
    "collapsed": false,
    "ExecuteTime": {
     "end_time": "2023-07-01T19:07:07.650427600Z",
     "start_time": "2023-07-01T19:07:07.480188700Z"
    }
   }
  },
  {
   "cell_type": "code",
   "execution_count": 129,
   "outputs": [],
   "source": [
    "## Aplicar as horas de execução\n",
    "value_hours_company = \"08:49\"\n",
    "if value_hours_company:\n",
    "    browser.find_element(\n",
    "        By.XPATH,\n",
    "        hours_company\n",
    "    ).clear()\n",
    "\n",
    "    browser.find_element(\n",
    "        By.XPATH,\n",
    "        hours_company\n",
    "    ).send_keys(value_hours_company)\n",
    "\n",
    "value_hours_client = \"00:00\"\n",
    "if value_hours_company:\n",
    "    browser.find_element(\n",
    "        By.XPATH,\n",
    "        hours_on_client\n",
    "    ).clear()\n",
    "\n",
    "    browser.find_element(\n",
    "        By.XPATH,\n",
    "        hours_on_client\n",
    "    ).send_keys(value_hours_client)\n",
    "\n",
    "value_hours_homeoffice = \"00:00\"\n",
    "if value_hours_company:\n",
    "    browser.find_element(\n",
    "        By.XPATH,\n",
    "        hours_on_homeoffice\n",
    "    ).clear()\n",
    "\n",
    "    browser.find_element(\n",
    "        By.XPATH,\n",
    "        hours_on_homeoffice\n",
    "    ).send_keys(value_hours_homeoffice)\n"
   ],
   "metadata": {
    "collapsed": false,
    "ExecuteTime": {
     "end_time": "2023-07-01T19:07:07.838320400Z",
     "start_time": "2023-07-01T19:07:07.651427Z"
    }
   }
  },
  {
   "cell_type": "code",
   "execution_count": 113,
   "outputs": [],
   "source": [
    "## Check de envio de email\n",
    "value_inform_mail = False\n",
    "\n",
    "if value_inform_mail:\n",
    "    browser.find_element(\n",
    "            By.XPATH,\n",
    "            check_send_mail\n",
    "        ).click()\n"
   ],
   "metadata": {
    "collapsed": false,
    "ExecuteTime": {
     "end_time": "2023-07-01T18:49:25.884263200Z",
     "start_time": "2023-07-01T18:49:25.867726400Z"
    }
   }
  },
  {
   "cell_type": "code",
   "execution_count": 114,
   "outputs": [],
   "source": [
    "## Submeter o fomulário\n",
    "browser.find_element(By.XPATH, btn_register_task).click()\n"
   ],
   "metadata": {
    "collapsed": false,
    "ExecuteTime": {
     "end_time": "2023-07-01T18:50:20.653940900Z",
     "start_time": "2023-07-01T18:50:20.593535900Z"
    }
   }
  },
  {
   "cell_type": "code",
   "execution_count": 118,
   "outputs": [],
   "source": [
    "alert = Alert(browser)\n",
    "alert_text = alert.text\n",
    "\n",
    "success_message = 'Ação do evento cadastrada com sucesso!'\n",
    "\n",
    "if alert_text == success_message:\n",
    "    alert.accept()"
   ],
   "metadata": {
    "collapsed": false,
    "ExecuteTime": {
     "end_time": "2023-07-01T18:53:48.760342700Z",
     "start_time": "2023-07-01T18:53:48.741306600Z"
    }
   }
  },
  {
   "cell_type": "code",
   "execution_count": null,
   "outputs": [],
   "source": [],
   "metadata": {
    "collapsed": false
   }
  }
 ],
 "metadata": {
  "kernelspec": {
   "display_name": "Python 3",
   "language": "python",
   "name": "python3"
  },
  "language_info": {
   "codemirror_mode": {
    "name": "ipython",
    "version": 2
   },
   "file_extension": ".py",
   "mimetype": "text/x-python",
   "name": "python",
   "nbconvert_exporter": "python",
   "pygments_lexer": "ipython2",
   "version": "2.7.6"
  }
 },
 "nbformat": 4,
 "nbformat_minor": 0
}
