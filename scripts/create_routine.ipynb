{
 "cells": [
  {
   "cell_type": "code",
   "execution_count": null,
   "metadata": {
    "collapsed": true
   },
   "outputs": [],
   "source": []
  },
  {
   "cell_type": "code",
   "execution_count": 13,
   "outputs": [],
   "source": [
    "# Global Context\n",
    "\n",
    "url_site = 'https://cotz.com.br/'\n"
   ],
   "metadata": {
    "collapsed": false,
    "ExecuteTime": {
     "end_time": "2023-07-01T17:00:15.783753200Z",
     "start_time": "2023-07-01T17:00:15.773755100Z"
    }
   }
  },
  {
   "cell_type": "code",
   "execution_count": 80,
   "outputs": [],
   "source": [
    "# Login Context\n",
    "input_username = '//*[@id=\"login\"]'\n",
    "input_password = '//*[@id=\"pass\"]'\n",
    "btn_login = '//button[@class=\"btt_contained btt_plus\"]'\n",
    "# Register Hour Context\n",
    "## year have 04 digits\n",
    "## month have 02 digits\n",
    "url_to_register_hours = 'https://cotz.com.br/obj.php?obj=acao_evento&op=calendario&mes={month}&ano={year}'\n",
    "btn_add_actions = '//*[@id=\"add_acao_evento\"]'\n",
    "\n",
    "# Form to register action\n",
    "linked_user = '//*[@id=\"p_v\"]'\n",
    "linked_user_options = '//select[@id=\"p_v\"]/option'\n",
    "linked_project = '//*[@id=\"i_pro\"]'\n",
    "linked_project_options = '//*[@id=\"i_pro\"]/option'\n",
    "linked_event = '//*[@id=\"i_e\"]'\n",
    "linked_date = '//*[@id=\"d_a_e\"]'\n",
    "responsable = '//*[@id=\"i_u_r\"]'\n",
    "activity_description = '//*[@id=\"richText_dsc_c\"]/div'\n",
    "hours_company = '//*[@id=\"t_h\"]'\n",
    "hours_on_client = '//*[@id=\"t_h_p\"]'\n",
    "hours_on_homeoffice = '//*[@id=\"t_h_o\"]'\n",
    "check_send_mail = '//*[@id=\"e_resp_com\"]'\n",
    "btn_register_task = '//*[@id=\"btnCreate\"]'\n",
    "\n",
    "div_conteudo = '//div[@id=\"conteudo\"]'\n"
   ],
   "metadata": {
    "collapsed": false,
    "ExecuteTime": {
     "end_time": "2023-07-01T18:26:03.777605700Z",
     "start_time": "2023-07-01T18:26:03.768600300Z"
    }
   }
  },
  {
   "cell_type": "code",
   "execution_count": 28,
   "outputs": [],
   "source": [
    "# Exec Variables\n",
    "\n",
    "value_username = 'asdasdas@dasdas.com.br'\n",
    "value_password = 'bmdnadbmanamnsdbmnsadbmna'\n"
   ],
   "metadata": {
    "collapsed": false,
    "ExecuteTime": {
     "end_time": "2023-07-01T17:07:57.396322600Z",
     "start_time": "2023-07-01T17:07:57.389326900Z"
    }
   }
  },
  {
   "cell_type": "code",
   "execution_count": 115,
   "outputs": [],
   "source": [
    "from selenium import webdriver\n",
    "from selenium.webdriver.common.keys import Keys\n",
    "from selenium.webdriver.common.alert import Alert\n",
    "from selenium.webdriver.common.by import By\n",
    "from selenium.webdriver.support import expected_conditions as ec\n",
    "from selenium.webdriver.support.ui import WebDriverWait\n",
    "from selenium.webdriver import ActionChains\n",
    "import selenium.common.exceptions as SeleniumErrors\n",
    "from datetime import datetime\n"
   ],
   "metadata": {
    "collapsed": false,
    "ExecuteTime": {
     "end_time": "2023-07-01T18:51:54.864618600Z",
     "start_time": "2023-07-01T18:51:54.851101500Z"
    }
   }
  },
  {
   "cell_type": "code",
   "execution_count": 4,
   "outputs": [],
   "source": [
    "# VARIABLES\n"
   ],
   "metadata": {
    "collapsed": false,
    "ExecuteTime": {
     "end_time": "2023-07-01T16:52:45.309641Z",
     "start_time": "2023-07-01T16:52:45.296095400Z"
    }
   }
  },
  {
   "cell_type": "code",
   "execution_count": 130,
   "outputs": [],
   "source": [
    "browser = webdriver.Chrome()"
   ],
   "metadata": {
    "collapsed": false,
    "ExecuteTime": {
     "end_time": "2023-07-02T00:26:52.691254200Z",
     "start_time": "2023-07-02T00:26:51.542466500Z"
    }
   }
  },
  {
   "cell_type": "code",
   "execution_count": 131,
   "outputs": [],
   "source": [
    "# Acessar o site\n",
    "browser.maximize_window()\n",
    "wait = WebDriverWait(browser, 15)\n",
    "browser.get(url_site)"
   ],
   "metadata": {
    "collapsed": false,
    "ExecuteTime": {
     "end_time": "2023-07-02T00:26:57.873059200Z",
     "start_time": "2023-07-02T00:26:52.694249500Z"
    }
   }
  },
  {
   "cell_type": "code",
   "execution_count": 132,
   "outputs": [
    {
     "data": {
      "text/plain": "<selenium.webdriver.remote.webelement.WebElement (session=\"4f0216be79084cf274a93f35f9870d00\", element=\"D2112EF8149BFD35AEFE92352486033D_element_45\")>"
     },
     "execution_count": 132,
     "metadata": {},
     "output_type": "execute_result"
    }
   ],
   "source": [
    "# Fazer o login\n",
    "browser.find_element(By.XPATH, input_username).send_keys(value_username)\n",
    "browser.find_element(By.XPATH, input_password).send_keys(value_password)\n",
    "browser.implicitly_wait(.5)\n",
    "browser.find_element(By.XPATH, btn_login).click()\n",
    "wait.until(ec.visibility_of_element_located((By.XPATH, div_conteudo)))"
   ],
   "metadata": {
    "collapsed": false,
    "ExecuteTime": {
     "end_time": "2023-07-02T00:27:18.188624Z",
     "start_time": "2023-07-02T00:27:10.896621800Z"
    }
   }
  },
  {
   "cell_type": "code",
   "execution_count": 133,
   "outputs": [],
   "source": [
    "# Acessar a página de registro\n",
    "browser.get(url_to_register_hours.format(month='06', year='2023'))\n",
    "btn_add = wait.until(ec.visibility_of_element_located((By.XPATH, btn_add_actions)))\n"
   ],
   "metadata": {
    "collapsed": false,
    "ExecuteTime": {
     "end_time": "2023-07-02T00:27:22.679224300Z",
     "start_time": "2023-07-02T00:27:19.775017200Z"
    }
   }
  },
  {
   "cell_type": "code",
   "execution_count": 144,
   "outputs": [],
   "source": [
    "# Abrir o formulário de registro\n",
    "btn_add.click()\n",
    "select_linked_user = wait.until(ec.visibility_of_element_located((By.XPATH, linked_user)))\n"
   ],
   "metadata": {
    "collapsed": false,
    "ExecuteTime": {
     "end_time": "2023-07-02T00:40:46.407402600Z",
     "start_time": "2023-07-02T00:40:40.643059300Z"
    }
   }
  },
  {
   "cell_type": "code",
   "execution_count": 145,
   "outputs": [],
   "source": [
    "# realizar o registro\n",
    "\n",
    "value_select = 'Enforce Group'\n",
    "\n",
    "## Selecionar pessoa vinculada\n",
    "select_linked_user.click()\n",
    "browser.implicitly_wait(.5)\n",
    "for i in browser.find_elements(By.XPATH, linked_user_options):\n",
    "    if i.text == value_select:\n",
    "        i.click()\n",
    "        break\n",
    "# select_linked_user.click()"
   ],
   "metadata": {
    "collapsed": false,
    "ExecuteTime": {
     "end_time": "2023-07-02T00:40:50.031535Z",
     "start_time": "2023-07-02T00:40:49.039797100Z"
    }
   }
  },
  {
   "cell_type": "code",
   "execution_count": 146,
   "outputs": [],
   "source": [
    "## Selecionar o projeto\n",
    "value_select = 'Dataself'\n",
    "browser.find_element(By.XPATH, linked_project).click()\n",
    "for i in browser.find_elements(By.XPATH, linked_project_options):\n",
    "    if i.text == value_select:\n",
    "        i.click()\n",
    "        break\n",
    "# browser.find_element(By.XPATH, linked_project).click()"
   ],
   "metadata": {
    "collapsed": false,
    "ExecuteTime": {
     "end_time": "2023-07-02T00:40:50.936856700Z",
     "start_time": "2023-07-02T00:40:50.033529400Z"
    }
   }
  },
  {
   "cell_type": "code",
   "execution_count": 147,
   "outputs": [],
   "source": [
    "## Selecionar o evento\n",
    "value_select = 'Desenvolvimento'\n",
    "\n",
    "\n",
    "for i in browser.find_elements(By.XPATH, linked_event+\"/option\"):\n",
    "    if i.text == value_select:\n",
    "        i.click()\n",
    "        break"
   ],
   "metadata": {
    "collapsed": false,
    "ExecuteTime": {
     "end_time": "2023-07-02T00:40:51.140160Z",
     "start_time": "2023-07-02T00:40:50.937921800Z"
    }
   }
  },
  {
   "cell_type": "code",
   "execution_count": 148,
   "outputs": [],
   "source": [
    "## Selecionar a data\n",
    "value_date = datetime(2023, 6, 26).strftime('%d/%m/%Y')\n",
    "\n",
    "browser.find_element(\n",
    "    By.XPATH,\n",
    "    linked_date\n",
    ").clear()\n",
    "\n",
    "browser.find_element(\n",
    "    By.XPATH,\n",
    "    linked_date\n",
    ").send_keys(value_date)\n"
   ],
   "metadata": {
    "collapsed": false,
    "ExecuteTime": {
     "end_time": "2023-07-02T00:40:51.326090300Z",
     "start_time": "2023-07-02T00:40:51.144162Z"
    }
   }
  },
  {
   "cell_type": "code",
   "execution_count": 149,
   "outputs": [],
   "source": [
    "## Aplicar a descrição da atividade\n",
    "value_text = \"Correção de merges, e bugs\"\n",
    "browser.find_element(\n",
    "    By.XPATH,\n",
    "    activity_description\n",
    ").clear()\n",
    "\n",
    "browser.find_element(\n",
    "    By.XPATH,\n",
    "    activity_description\n",
    ").send_keys(value_text)\n"
   ],
   "metadata": {
    "collapsed": false,
    "ExecuteTime": {
     "end_time": "2023-07-02T00:40:51.484950100Z",
     "start_time": "2023-07-02T00:40:51.330092400Z"
    }
   }
  },
  {
   "cell_type": "code",
   "execution_count": 150,
   "outputs": [],
   "source": [
    "## Aplicar as horas de execução\n",
    "value_hours_company = \"08:12\"\n",
    "if value_hours_company:\n",
    "    browser.find_element(\n",
    "        By.XPATH,\n",
    "        hours_company\n",
    "    ).clear()\n",
    "\n",
    "    browser.find_element(\n",
    "        By.XPATH,\n",
    "        hours_company\n",
    "    ).send_keys(value_hours_company)\n",
    "\n",
    "value_hours_client = \"00:00\"\n",
    "if value_hours_company:\n",
    "    browser.find_element(\n",
    "        By.XPATH,\n",
    "        hours_on_client\n",
    "    ).clear()\n",
    "\n",
    "    browser.find_element(\n",
    "        By.XPATH,\n",
    "        hours_on_client\n",
    "    ).send_keys(value_hours_client)\n",
    "\n",
    "value_hours_homeoffice = \"00:00\"\n",
    "if value_hours_company:\n",
    "    browser.find_element(\n",
    "        By.XPATH,\n",
    "        hours_on_homeoffice\n",
    "    ).clear()\n",
    "\n",
    "    browser.find_element(\n",
    "        By.XPATH,\n",
    "        hours_on_homeoffice\n",
    "    ).send_keys(value_hours_homeoffice)\n"
   ],
   "metadata": {
    "collapsed": false,
    "ExecuteTime": {
     "end_time": "2023-07-02T00:40:51.781335800Z",
     "start_time": "2023-07-02T00:40:51.487946600Z"
    }
   }
  },
  {
   "cell_type": "code",
   "execution_count": 151,
   "outputs": [],
   "source": [
    "## Check de envio de email\n",
    "value_inform_mail = False\n",
    "\n",
    "if value_inform_mail:\n",
    "    browser.find_element(\n",
    "            By.XPATH,\n",
    "            check_send_mail\n",
    "        ).click()\n"
   ],
   "metadata": {
    "collapsed": false,
    "ExecuteTime": {
     "end_time": "2023-07-02T00:40:52.221780400Z",
     "start_time": "2023-07-02T00:40:52.208783200Z"
    }
   }
  },
  {
   "cell_type": "code",
   "execution_count": 152,
   "outputs": [],
   "source": [
    "## Submeter o fomulário\n",
    "browser.find_element(By.XPATH, btn_register_task).click()\n"
   ],
   "metadata": {
    "collapsed": false,
    "ExecuteTime": {
     "end_time": "2023-07-02T00:40:52.767309800Z",
     "start_time": "2023-07-02T00:40:52.654420900Z"
    }
   }
  },
  {
   "cell_type": "code",
   "execution_count": 154,
   "outputs": [],
   "source": [
    "alert = Alert(browser)\n",
    "alert_text = alert.text\n",
    "\n",
    "success_message = 'Ação do evento cadastrada com sucesso!'\n",
    "\n",
    "if alert_text == success_message:\n",
    "    alert.accept()"
   ],
   "metadata": {
    "collapsed": false,
    "ExecuteTime": {
     "end_time": "2023-07-02T00:41:02.734480400Z",
     "start_time": "2023-07-02T00:41:02.695415100Z"
    }
   }
  },
  {
   "cell_type": "code",
   "execution_count": 1,
   "outputs": [],
   "source": [
    "\n",
    "import pandas as pd\n",
    "\n"
   ],
   "metadata": {
    "collapsed": false,
    "ExecuteTime": {
     "end_time": "2023-07-02T04:07:05.077448800Z",
     "start_time": "2023-07-02T04:07:04.614928300Z"
    }
   }
  },
  {
   "cell_type": "code",
   "execution_count": 2,
   "outputs": [],
   "source": [
    "df = pd.read_csv('rpa_csv.csv', sep=\";\")"
   ],
   "metadata": {
    "collapsed": false,
    "ExecuteTime": {
     "end_time": "2023-07-02T04:07:05.934068500Z",
     "start_time": "2023-07-02T04:07:05.909377800Z"
    }
   }
  },
  {
   "cell_type": "markdown",
   "source": [],
   "metadata": {
    "collapsed": false
   }
  },
  {
   "cell_type": "code",
   "execution_count": 3,
   "outputs": [
    {
     "name": "stdout",
     "output_type": "stream",
     "text": [
      "<class 'pandas.core.frame.DataFrame'>\n",
      "RangeIndex: 1 entries, 0 to 0\n",
      "Data columns (total 11 columns):\n",
      " #   Column            Non-Null Count  Dtype  \n",
      "---  ------            --------------  -----  \n",
      " 0   DATA              1 non-null      object \n",
      " 1   TEXTO_ATIVIDADE   1 non-null      object \n",
      " 2   HORAS_EMPRESA     1 non-null      object \n",
      " 3   HORAS_CLIENTE     1 non-null      object \n",
      " 4   HORAS_HOMEOFFICE  1 non-null      object \n",
      " 5   EVENTO            1 non-null      object \n",
      " 6   PROJETO           1 non-null      object \n",
      " 7   PESSOA            1 non-null      object \n",
      " 8   INSERIDO          1 non-null      bool   \n",
      " 9   IGNORAR           1 non-null      bool   \n",
      " 10  EXECUTION_STATUS  0 non-null      float64\n",
      "dtypes: bool(2), float64(1), object(8)\n",
      "memory usage: 202.0+ bytes\n"
     ]
    }
   ],
   "source": [
    "df.info()"
   ],
   "metadata": {
    "collapsed": false,
    "ExecuteTime": {
     "end_time": "2023-07-02T04:07:08.112785400Z",
     "start_time": "2023-07-02T04:07:08.081417700Z"
    }
   }
  },
  {
   "cell_type": "code",
   "execution_count": 4,
   "outputs": [
    {
     "data": {
      "text/plain": "         DATA TEXTO_ATIVIDADE HORAS_EMPRESA HORAS_CLIENTE HORAS_HOMEOFFICE  \\\n0  24/06/2023     Sei la mano         08:22         00:00            00:00   \n\n            EVENTO   PROJETO         PESSOA  INSERIDO  IGNORAR  \\\n0  Desenvolvimento  Dataself  Enforce Group     False    False   \n\n   EXECUTION_STATUS  \n0               NaN  ",
      "text/html": "<div>\n<style scoped>\n    .dataframe tbody tr th:only-of-type {\n        vertical-align: middle;\n    }\n\n    .dataframe tbody tr th {\n        vertical-align: top;\n    }\n\n    .dataframe thead th {\n        text-align: right;\n    }\n</style>\n<table border=\"1\" class=\"dataframe\">\n  <thead>\n    <tr style=\"text-align: right;\">\n      <th></th>\n      <th>DATA</th>\n      <th>TEXTO_ATIVIDADE</th>\n      <th>HORAS_EMPRESA</th>\n      <th>HORAS_CLIENTE</th>\n      <th>HORAS_HOMEOFFICE</th>\n      <th>EVENTO</th>\n      <th>PROJETO</th>\n      <th>PESSOA</th>\n      <th>INSERIDO</th>\n      <th>IGNORAR</th>\n      <th>EXECUTION_STATUS</th>\n    </tr>\n  </thead>\n  <tbody>\n    <tr>\n      <th>0</th>\n      <td>24/06/2023</td>\n      <td>Sei la mano</td>\n      <td>08:22</td>\n      <td>00:00</td>\n      <td>00:00</td>\n      <td>Desenvolvimento</td>\n      <td>Dataself</td>\n      <td>Enforce Group</td>\n      <td>False</td>\n      <td>False</td>\n      <td>NaN</td>\n    </tr>\n  </tbody>\n</table>\n</div>"
     },
     "execution_count": 4,
     "metadata": {},
     "output_type": "execute_result"
    }
   ],
   "source": [
    "df.head()"
   ],
   "metadata": {
    "collapsed": false,
    "ExecuteTime": {
     "end_time": "2023-07-02T04:07:09.361065500Z",
     "start_time": "2023-07-02T04:07:09.303855900Z"
    }
   }
  },
  {
   "cell_type": "code",
   "execution_count": 11,
   "outputs": [],
   "source": [
    "import json"
   ],
   "metadata": {
    "collapsed": false,
    "ExecuteTime": {
     "end_time": "2023-07-02T18:29:11.743047300Z",
     "start_time": "2023-07-02T18:29:11.697010200Z"
    }
   }
  },
  {
   "cell_type": "code",
   "execution_count": 12,
   "outputs": [],
   "source": [
    "rpa_targets = dict(\n",
    "    url_site = 'https://cotz.com.br/',\n",
    "\n",
    "    input_username = '//*[@id=\"login\"]',\n",
    "    input_password = '//*[@id=\"pass\"]',\n",
    "    btn_login = '//button[@class=\"btt_contained btt_plus\"]',\n",
    "    url_to_register_hours = 'https://cotz.com.br/obj.php?obj=acao_evento&op=calendario&mes={month}&ano={year}',\n",
    "    btn_add_actions = '//*[@id=\"add_acao_evento\"]',\n",
    "    linked_user = '//*[@id=\"p_v\"]',\n",
    "    linked_user_options = '//select[@id=\"p_v\"]/option',\n",
    "    linked_project = '//*[@id=\"i_pro\"]',\n",
    "    linked_project_options = '//*[@id=\"i_pro\"]/option',\n",
    "    linked_event = '//*[@id=\"i_e\"]',\n",
    "    linked_event_options = '//*[@id=\"i_e\"]/option',\n",
    "    linked_date = '//*[@id=\"d_a_e\"]',\n",
    "    responsable = '//*[@id=\"i_u_r\"]',\n",
    "    activity_description = '//*[@id=\"richText_dsc_c\"]/div',\n",
    "    hours_company = '//*[@id=\"t_h\"]',\n",
    "    hours_on_client = '//*[@id=\"t_h_p\"]',\n",
    "    hours_on_homeoffice = '//*[@id=\"t_h_o\"]',\n",
    "    check_send_mail = '//*[@id=\"e_resp_com\"]',\n",
    "    btn_register_task = '//*[@id=\"btnCreate\"]',\n",
    "    div_conteudo = '//div[@id=\"conteudo\"]',\n",
    "    success_message = 'Ação do evento cadastrada com sucesso!',\n",
    ")"
   ],
   "metadata": {
    "collapsed": false,
    "ExecuteTime": {
     "end_time": "2023-07-02T18:30:06.246025300Z",
     "start_time": "2023-07-02T18:30:06.199266700Z"
    }
   }
  },
  {
   "cell_type": "code",
   "execution_count": 13,
   "outputs": [],
   "source": [
    "with open(\"rpa_target.json\", \"w\") as fl:\n",
    "    fl.writelines(\n",
    "        json.dumps(rpa_targets, indent=4)\n",
    "    )"
   ],
   "metadata": {
    "collapsed": false,
    "ExecuteTime": {
     "end_time": "2023-07-02T18:30:59.418053300Z",
     "start_time": "2023-07-02T18:30:59.398047800Z"
    }
   }
  }
 ],
 "metadata": {
  "kernelspec": {
   "display_name": "Python 3",
   "language": "python",
   "name": "python3"
  },
  "language_info": {
   "codemirror_mode": {
    "name": "ipython",
    "version": 2
   },
   "file_extension": ".py",
   "mimetype": "text/x-python",
   "name": "python",
   "nbconvert_exporter": "python",
   "pygments_lexer": "ipython2",
   "version": "2.7.6"
  }
 },
 "nbformat": 4,
 "nbformat_minor": 0
}
